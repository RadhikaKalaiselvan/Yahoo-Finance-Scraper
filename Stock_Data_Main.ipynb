{
 "cells": [
  {
   "cell_type": "code",
   "execution_count": 1,
   "metadata": {
    "scrolled": true
   },
   "outputs": [
    {
     "name": "stderr",
     "output_type": "stream",
     "text": [
      "/Users/radhikakalaiselvan/anaconda/lib/python3.6/site-packages/fix_yahoo_finance/__init__.py:43: DeprecationWarning: \n",
      "    Auto-overriding of pandas_datareader's get_data_yahoo() is deprecated and no longer available.\n",
      "    Use pdr_override() to explicitly override it.\n",
      "  DeprecationWarning)\n",
      "/Users/radhikakalaiselvan/anaconda/lib/python3.6/site-packages/bokeh/core/json_encoder.py:52: DeprecationWarning: parsing timezone aware datetimes is deprecated; this will raise an error in the future\n",
      "  NP_EPOCH = np.datetime64('1970-01-01T00:00:00Z')\n"
     ]
    },
    {
     "name": "stdout",
     "output_type": "stream",
     "text": [
      "Do you want to fetch the data using API?(Valid options : Yes / No)Yes\n",
      "No to the option will fetch data by web scraping.\n",
      "Yes\n",
      "[*********************100%***********************]  1 of 1 downloaded"
     ]
    },
    {
     "name": "stderr",
     "output_type": "stream",
     "text": [
      "/Users/radhikakalaiselvan/anaconda/lib/python3.6/site-packages/ipykernel_launcher.py:63: SettingWithCopyWarning: \n",
      "A value is trying to be set on a copy of a slice from a DataFrame.\n",
      "Try using .loc[row_indexer,col_indexer] = value instead\n",
      "\n",
      "See the caveats in the documentation: http://pandas.pydata.org/pandas-docs/stable/indexing.html#indexing-view-versus-copy\n"
     ]
    }
   ],
   "source": [
    "import datetime\n",
    "from pandas_datareader import data as pdr\n",
    "import fix_yahoo_finance as yf\n",
    "from pandas_datareader import Options\n",
    "import pandas as pd\n",
    "from bokeh.plotting import figure, output_file, show,figure\n",
    "from dateutil import parser\n",
    "\n",
    "#get data using finance.yahoo.com APIs \n",
    "def get_data_from_api():\n",
    "    #get the historical data \n",
    "    yf.pdr_override()\n",
    "    today=datetime.datetime.today().strftime('%Y-%m-%d')\n",
    "    data1 = pdr.get_data_yahoo(\"AMZN\", start=\"2017-10-01\", end=today)\n",
    "    data1.reset_index(inplace=True,drop=False)\n",
    "    \n",
    "    #get the options data form Yahoo\n",
    "    ops = Options('AMZN', 'yahoo')\n",
    "    data2 = ops.get_all_data()\n",
    "    expiry = datetime.date.today()\n",
    "    data2.reset_index(inplace=True,drop=False)\n",
    "    datatemp = data2.filter(['Last_Trade_Date'], axis=1)\n",
    "    datatemp['Date'] = [d.date() for d in datatemp['Last_Trade_Date']]\n",
    "    data2['Date']=pd.to_datetime(datatemp['Date'])\n",
    "    #return 2 dataframes\n",
    "    return data1,data2\n",
    "\n",
    "#Process options data's  Last_Trade_Date column to Date same format as\n",
    "#in historical data inorder to join these 2 datasets \n",
    "def process_data_from_web(historic_data,options):\n",
    "    datatemp = options_data.filter(['Last_Trade_Date'], axis=1)\n",
    "    datatemp['Date'] = [parser.parse(d).date() for d in datatemp['Last_Trade_Date']]\n",
    "    options_data['Date']=pd.to_datetime(datatemp['Date'])\n",
    "    \n",
    "    datatemp_h = historic_data.filter(['Date'], axis=1)\n",
    "    datatemp_h['Date_h'] = [parser.parse(d) for d in datatemp_h['Date']]\n",
    "    historic_data['Date']=pd.to_datetime(datatemp_h['Date'])\n",
    "    \n",
    "#merge two datasets, perform a inner join on data column\n",
    "def merge_dataframes(data1,data2):\n",
    "    merged_data=pd.merge(data1, data2, how='inner', left_on='Date', right_on='Date')\n",
    "    return merged_data\n",
    "\n",
    "#If close value is greater than open value then the trend is increasing, else decreasing.(used to plot graph)\n",
    "def inc_dec(close,openv):\n",
    "    if close>openv:\n",
    "        value=\"Increase\"\n",
    "    elif close<openv:\n",
    "        value=\"Decrease\"\n",
    "    else:\n",
    "        value=\"Equal\"\n",
    "    return value\n",
    "\n",
    "#Used to get the mid value between close value and open value. (Used to plot the graph)\n",
    "def get_mid(close,openv):\n",
    "    return (close+openv)/2\n",
    "\n",
    "#Since we are generating the graph with x-axis as date, we are removing the duplicates and\n",
    "# generate new columns middle(mid of open value and close value ),\n",
    "#status(increase/decrease/equal), height (difference of close and open values of stock)\n",
    "def preprocess_for_graph_gen(data_frame):\n",
    "    data_frame=data_frame.drop_duplicates(['Date'], keep='last')\n",
    "    data_frame['Middle'] =(data_frame['Open']+data_frame['Close'])/2\n",
    "    data_frame['Status']=data_frame.apply(lambda row: inc_dec(row['Close'],row['Open']), axis=1)\n",
    "    data_frame['Height']=abs(data_frame['Close']-data_frame['Open'])\n",
    "    return data_frame\n",
    "\n",
    "#Generates and prints graph for given dataframe\n",
    "def generateGraph(df):\n",
    "    p=figure(x_axis_type='datetime',width=1000,height=300,responsive=True)\n",
    "    hours_12=12*60*60*1000\n",
    "    #If the status is increasing we set the color to green, x=date,y=middle\n",
    "    p.rect(df.Date[df.Status ==\"Increase\"],\n",
    "           df.Middle[df.Status==\"Increase\"],\n",
    "           hours_12,\n",
    "           df.Height[df.Status==\"Increase\"],\n",
    "           fill_color='#00FF7F',\n",
    "           line_color=\"black\")\n",
    "    \n",
    "    #If the status is decreasing we set the color to red, x=date,y=middle\n",
    "    p.rect(df.Date[df.Status ==\"Decrease\"],\n",
    "           df.Middle[df.Status==\"Decrease\"],\n",
    "           hours_12,\n",
    "           df.Height[df.Status==\"Decrease\"],\n",
    "           fill_color='#DC143C',\n",
    "           line_color=\"black\")\n",
    "    #Add a line graph over the bar charts\n",
    "    p.line(df.Date,df.Close)\n",
    "    #print(df.head)\n",
    "    show(p)\n",
    "    \n",
    "\n",
    "#If the user enter Yes, the data is fetched from API, if user option is no, \n",
    "#data from the hist.csv and opts.csv generated by web scraping using the other 2 scripts is used to generate\n",
    "#the graph.\n",
    "\n",
    "api=input(\"Do you want to fetch the data using API?(Valid options : Yes / No)\")\n",
    "print(\"No to the option will fetch data by web scraping.\")\n",
    "print(api)\n",
    "if api==\"Yes\" or api==\"No\":\n",
    "    if api==\"Yes\":\n",
    "        #Generate graph on data from APIs\n",
    "        historic_data,opts_data=get_data_from_api()\n",
    "        merged_data=merge_dataframes(historic_data,opts_data)\n",
    "        process_data=preprocess_for_graph_gen(merged_data)\n",
    "        generateGraph(process_data)\n",
    "    else:\n",
    "        print(\"To process data generated by web scraping, you should have ran Historic_Data_Web_Scraper.ipynb and Options_Data_Web_Scraper.ipynb\")\n",
    "        run_1=input(\"Have you ran these files?\")\n",
    "        if run_1==\"Yes\" or run_1==\"No\":\n",
    "            if run_1==\"Yes\":\n",
    "                #Generate graph for data fetched by web scraping\n",
    "                historic_data=pd.read_csv(\"hist.csv\")\n",
    "                options_data=pd.read_csv(\"opts.csv\")\n",
    "                process_data_from_web(historic_data,options_data)\n",
    "                merged_data=merge_dataframes(historic_data,options_data)\n",
    "                process_data=preprocess_for_graph_gen(merged_data)\n",
    "                generateGraph(process_data)\n",
    "               \n",
    "            else:\n",
    "                print(\"Please run the above mentioned files, which will generate hist.csv and opts.csv.\")\n",
    "                \n",
    "        else:\n",
    "            print(\"Invalid User Input\")\n",
    "        \n",
    "    \n",
    "else:\n",
    "    print(\"Invalid User Input\")\n",
    "    "
   ]
  },
  {
   "cell_type": "code",
   "execution_count": null,
   "metadata": {
    "collapsed": true
   },
   "outputs": [],
   "source": []
  },
  {
   "cell_type": "code",
   "execution_count": null,
   "metadata": {
    "collapsed": true
   },
   "outputs": [],
   "source": []
  },
  {
   "cell_type": "code",
   "execution_count": null,
   "metadata": {
    "collapsed": true
   },
   "outputs": [],
   "source": []
  }
 ],
 "metadata": {
  "kernelspec": {
   "display_name": "Python 3",
   "language": "python",
   "name": "python3"
  },
  "language_info": {
   "codemirror_mode": {
    "name": "ipython",
    "version": 3
   },
   "file_extension": ".py",
   "mimetype": "text/x-python",
   "name": "python",
   "nbconvert_exporter": "python",
   "pygments_lexer": "ipython3",
   "version": "3.6.1"
  }
 },
 "nbformat": 4,
 "nbformat_minor": 2
}
