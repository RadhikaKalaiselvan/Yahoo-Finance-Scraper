{
 "cells": [
  {
   "cell_type": "code",
   "execution_count": 1,
   "metadata": {},
   "outputs": [
    {
     "ename": "AttributeError",
     "evalue": "'NoneType' object has no attribute 'find_all'",
     "output_type": "error",
     "traceback": [
      "\u001b[0;31m---------------------------------------------------------------------------\u001b[0m",
      "\u001b[0;31mAttributeError\u001b[0m                            Traceback (most recent call last)",
      "\u001b[0;32m<ipython-input-1-aa916f53cf4b>\u001b[0m in \u001b[0;36m<module>\u001b[0;34m()\u001b[0m\n\u001b[1;32m     61\u001b[0m           ]\n\u001b[1;32m     62\u001b[0m \u001b[0;31m#Extract data method return the values scraped from the yahoo page\u001b[0m\u001b[0;34m\u001b[0m\u001b[0;34m\u001b[0m\u001b[0m\n\u001b[0;32m---> 63\u001b[0;31m \u001b[0mopts_data\u001b[0m\u001b[0;34m=\u001b[0m\u001b[0mextract_data\u001b[0m\u001b[0;34m(\u001b[0m\u001b[0mopts_souptable\u001b[0m\u001b[0;34m,\u001b[0m\u001b[0;36m10\u001b[0m\u001b[0;34m)\u001b[0m\u001b[0;34m\u001b[0m\u001b[0m\n\u001b[0m\u001b[1;32m     64\u001b[0m \u001b[0;34m\u001b[0m\u001b[0m\n\u001b[1;32m     65\u001b[0m \u001b[0;31m#create a dataframe using the data and add column names\u001b[0m\u001b[0;34m\u001b[0m\u001b[0;34m\u001b[0m\u001b[0m\n",
      "\u001b[0;32m<ipython-input-1-aa916f53cf4b>\u001b[0m in \u001b[0;36mextract_data\u001b[0;34m(souptable, col_count)\u001b[0m\n\u001b[1;32m     29\u001b[0m \u001b[0;32mdef\u001b[0m \u001b[0mextract_data\u001b[0m\u001b[0;34m(\u001b[0m\u001b[0msouptable\u001b[0m\u001b[0;34m,\u001b[0m\u001b[0mcol_count\u001b[0m\u001b[0;34m)\u001b[0m\u001b[0;34m:\u001b[0m\u001b[0;34m\u001b[0m\u001b[0m\n\u001b[1;32m     30\u001b[0m     \u001b[0marr\u001b[0m\u001b[0;34m=\u001b[0m\u001b[0;34m[\u001b[0m\u001b[0;34m]\u001b[0m\u001b[0;34m\u001b[0m\u001b[0m\n\u001b[0;32m---> 31\u001b[0;31m     \u001b[0;32mfor\u001b[0m \u001b[0mrow\u001b[0m \u001b[0;32min\u001b[0m \u001b[0msouptable\u001b[0m\u001b[0;34m.\u001b[0m\u001b[0mfind_all\u001b[0m\u001b[0;34m(\u001b[0m\u001b[0;34m'tr'\u001b[0m\u001b[0;34m)\u001b[0m\u001b[0;34m[\u001b[0m\u001b[0;36m1\u001b[0m\u001b[0;34m:\u001b[0m\u001b[0;34m]\u001b[0m\u001b[0;34m:\u001b[0m\u001b[0;34m\u001b[0m\u001b[0m\n\u001b[0m\u001b[1;32m     32\u001b[0m         \u001b[0mcols\u001b[0m \u001b[0;34m=\u001b[0m \u001b[0mrow\u001b[0m\u001b[0;34m.\u001b[0m\u001b[0mfind_all\u001b[0m\u001b[0;34m(\u001b[0m\u001b[0;34m'td'\u001b[0m\u001b[0;34m)\u001b[0m\u001b[0;34m\u001b[0m\u001b[0m\n\u001b[1;32m     33\u001b[0m         \u001b[0;32mif\u001b[0m \u001b[0mlen\u001b[0m\u001b[0;34m(\u001b[0m\u001b[0mcols\u001b[0m\u001b[0;34m)\u001b[0m \u001b[0;34m==\u001b[0m \u001b[0mcol_count\u001b[0m\u001b[0;34m:\u001b[0m\u001b[0;34m\u001b[0m\u001b[0m\n",
      "\u001b[0;31mAttributeError\u001b[0m: 'NoneType' object has no attribute 'find_all'"
     ]
    }
   ],
   "source": [
    "#returns the html content of given page\n",
    "def render(source_html):\n",
    "    #Fully render HTML, JavaScript and all\n",
    "    import sys\n",
    "    from PyQt5.QtCore import QEventLoop\n",
    "    from PyQt5.QtWidgets import QApplication\n",
    "    from PyQt5.QtWebEngineWidgets import QWebEngineView\n",
    "\n",
    "    class Render(QWebEngineView):\n",
    "        def __init__(self, html):\n",
    "            self.html = None\n",
    "            self.app = QApplication(sys.argv)\n",
    "            QWebEngineView.__init__(self)\n",
    "            self.loadFinished.connect(self._loadFinished)\n",
    "            self.setHtml(html)\n",
    "            while self.html is None:\n",
    "                self.app.processEvents(QEventLoop.ExcludeUserInputEvents | QEventLoop.ExcludeSocketNotifiers | QEventLoop.WaitForMoreEvents)\n",
    "            self.app.quit()\n",
    "\n",
    "        def _callable(self, data):\n",
    "            self.html = data\n",
    "\n",
    "        def _loadFinished(self, result):\n",
    "            self.page().toHtml(self._callable)\n",
    "\n",
    "    return Render(source_html).html\n",
    "\n",
    "#Extract all the content from td tags and check for rows with no nulls values and len(cols)=count\n",
    "def extract_data(souptable,col_count): \n",
    "    arr=[]    \n",
    "    for row in souptable.find_all('tr')[1:]:\n",
    "        cols = row.find_all('td')\n",
    "        if len(cols) == col_count:\n",
    "            arr.append([])\n",
    "            for c in range(len(cols)):\n",
    "                value=cols[c].find(text=True)\n",
    "                arr[-1].append( value )\n",
    "    return arr\n",
    "\n",
    "import requests\n",
    "import pandas as pd\n",
    "from bs4 import BeautifulSoup\n",
    "#Open the options URL\n",
    "opts_html = requests.get(\"https://finance.yahoo.com/quote/AMZN/options?p=AMZN\").text\n",
    "rendered_opts_html = render(opts_html)\n",
    "#Genrate the text and parse html and find 'table' tag\n",
    "soup_o = BeautifulSoup(rendered_opts_html, 'html.parser')\n",
    "opts_souptable = soup_o.find('table')\n",
    "\n",
    "opt_columns = [ \"Contract Name\",\n",
    "           \"Last_Trade_Date\",\n",
    "           \"Strike\",\n",
    "           \"Last Price\",\n",
    "           \"Bid\",\n",
    "           \"Ask\",\n",
    "           \"Change\",\n",
    "           \"Percentage_Change\",\n",
    "           \"Volume\",\n",
    "           \"Open Interest\",\n",
    "           \"Implied Volatility\"\n",
    "          ]\n",
    "#Extract data method return the values scraped from the yahoo page\n",
    "opts_data=extract_data(opts_souptable,10)\n",
    "\n",
    "#create a dataframe using the data and add column names\n",
    "opts_df = pd.DataFrame(opts_data, columns=opt_columns )\n",
    "\n",
    "#print the sample data that is generated\n",
    "print(opts_df.head())\n",
    "\n",
    "#Write the Options data to opts.csv\n",
    "opts_df.to_csv(\"opts.csv\",index=False)\n",
    "\n",
    "\n"
   ]
  },
  {
   "cell_type": "code",
   "execution_count": null,
   "metadata": {
    "collapsed": true
   },
   "outputs": [],
   "source": []
  }
 ],
 "metadata": {
  "kernelspec": {
   "display_name": "Python 3",
   "language": "python",
   "name": "python3"
  },
  "language_info": {
   "codemirror_mode": {
    "name": "ipython",
    "version": 3
   },
   "file_extension": ".py",
   "mimetype": "text/x-python",
   "name": "python",
   "nbconvert_exporter": "python",
   "pygments_lexer": "ipython3",
   "version": "3.6.1"
  }
 },
 "nbformat": 4,
 "nbformat_minor": 2
}
