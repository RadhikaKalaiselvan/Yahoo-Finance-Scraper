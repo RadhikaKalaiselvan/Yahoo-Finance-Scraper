{
 "cells": [
  {
   "cell_type": "code",
   "execution_count": 1,
   "metadata": {},
   "outputs": [
    {
     "name": "stdout",
     "output_type": "stream",
     "text": [
      "           Date      Open      High       Low     Close Adj Close     Volume\n",
      "0  Mar 12, 2018  1,592.60      0.00      0.00  1,599.55  1,599.55          -\n",
      "1  Mar 09, 2018  1,563.50  1,578.94  1,559.08  1,578.89  1,578.89  4,436,100\n",
      "2  Mar 08, 2018  1,550.00  1,554.88  1,545.25  1,551.86  1,551.86  3,862,600\n",
      "3  Mar 07, 2018  1,526.52  1,545.90  1,522.51  1,545.00  1,545.00  4,174,100\n",
      "4  Mar 06, 2018  1,533.20  1,542.13  1,528.00  1,537.64  1,537.64  4,561,700\n"
     ]
    }
   ],
   "source": [
    "#returns the html content of given page\n",
    "def render(source_html):\n",
    "    #Fully render HTML, JavaScript and all\n",
    "    import sys\n",
    "    from PyQt5.QtCore import QEventLoop\n",
    "    from PyQt5.QtWidgets import QApplication\n",
    "    from PyQt5.QtWebEngineWidgets import QWebEngineView\n",
    "\n",
    "    class Render(QWebEngineView):\n",
    "        def __init__(self, html):\n",
    "            self.html = None\n",
    "            self.app = QApplication(sys.argv)\n",
    "            QWebEngineView.__init__(self)\n",
    "            self.loadFinished.connect(self._loadFinished)\n",
    "            self.setHtml(html)\n",
    "            while self.html is None:\n",
    "                self.app.processEvents(QEventLoop.ExcludeUserInputEvents | QEventLoop.ExcludeSocketNotifiers | QEventLoop.WaitForMoreEvents)\n",
    "            self.app.quit()\n",
    "\n",
    "        def _callable(self, data):\n",
    "            self.html = data\n",
    "\n",
    "        def _loadFinished(self, result):\n",
    "            self.page().toHtml(self._callable)\n",
    "\n",
    "    return Render(source_html).html\n",
    "\n",
    "#Extract all the content from td tags and check for rows with no nulls values and len(cols)=count\n",
    "def extract_data(souptable,col_count): \n",
    "    arr=[]    \n",
    "    for row in souptable.find_all('tr')[1:]:\n",
    "        cols = row.find_all('td')\n",
    "        if len(cols) == col_count:\n",
    "            arr.append([])\n",
    "            for c in range(len(cols)):\n",
    "                value=cols[c].find(text=True)\n",
    "                arr[-1].append( value )\n",
    "    return arr\n",
    "\n",
    "import requests\n",
    "import pandas as pd\n",
    "from bs4 import BeautifulSoup\n",
    "\n",
    "#Open the options URL\n",
    "hist_html = requests.get(\"https://finance.yahoo.com/quote/AMZN/history?p=AMZN\").text\n",
    "#Genrate the text and parse html and find 'table' tag\n",
    "rendered_hist_html = render(hist_html)\n",
    "soup_h = BeautifulSoup(rendered_hist_html, 'html.parser')\n",
    "hist_souptable = soup_h.find('table')\n",
    "columns = [ \"Date\",\n",
    "           \"Open\",\n",
    "           \"High\",\n",
    "           \"Low\",\n",
    "           \"Close\",\n",
    "           \"Adj Close\",\n",
    "           \"Volume\"\n",
    "          ]\n",
    "#Extract data method return the values scraped from the yahoo page\n",
    "hist_data=extract_data(hist_souptable,7)\n",
    "\n",
    "#print the sample data that is generated\n",
    "hist_df = pd.DataFrame(hist_data, columns=columns )\n",
    "print(hist_df.head())\n",
    "\n",
    "#Write the Options data to opts.csv\n",
    "hist_df.to_csv(\"hist.csv\",index=False)\n",
    "\n"
   ]
  },
  {
   "cell_type": "code",
   "execution_count": null,
   "metadata": {
    "collapsed": true
   },
   "outputs": [],
   "source": []
  }
 ],
 "metadata": {
  "kernelspec": {
   "display_name": "Python 3",
   "language": "python",
   "name": "python3"
  },
  "language_info": {
   "codemirror_mode": {
    "name": "ipython",
    "version": 3
   },
   "file_extension": ".py",
   "mimetype": "text/x-python",
   "name": "python",
   "nbconvert_exporter": "python",
   "pygments_lexer": "ipython3",
   "version": "3.6.1"
  }
 },
 "nbformat": 4,
 "nbformat_minor": 2
}
